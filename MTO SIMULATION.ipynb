{
 "cells": [
  {
   "cell_type": "markdown",
   "metadata": {},
   "source": [
    "In this notebook we consider masked MTO data to gain further intuition about non-zero p-values in a randomized control trial."
   ]
  },
  {
   "cell_type": "markdown",
   "metadata": {},
   "source": [
    "SUMMARY BASED ON Inter-University Consortium for Political and Social Research (ICPSR) \n",
    "https://www.icpsr.umich.edu/icpsrweb/ICPSR/studies/34563\n",
    "\n",
    "``Nearly 9 million Americans live in extreme-poverty neighborhoods, places that also tend to be racially segregated and dangerous. Yet, the effects on the well-being of residents of moving out of such communities into less distressed areas remain uncertain. Moving to Opportunity (MTO) is a randomized housing experiment administered by the United States Department of Housing and Urban Development that gave low-income families living in high-poverty areas in five cities the chance to move to lower-poverty areas.''\n",
    "\n",
    "Randomized family assignment:\n",
    "\n",
    "1. TREATMENT A: Families given a low-poverty voucher (LPV) for Section 8 housing in  census tracts with 1990 poverty rates below 10 percent. Families received mobility counseling and help in leasing a new unit. One year after relocating, families could use their voucher to move again if they wished, without location constraints.\n",
    "\n",
    "2. TREATMENT B: Families received regular Section 8 certificates or vouchers that they could use anywhere; these families received no special mobility counseling.\n",
    "\n",
    "3. CONTROL GROUP: Families received no certificates or vouchers through MTO, but continued to be eligible for other types of housing assistance, social programs and services.\n",
    "\n",
    "TRACKING PERIOD: Baseline (1994-1998) Longterm (2008-2010) \n",
    "\n",
    "GOAL: Determine the effects of \"neighborhood\" on participating families. \n",
    "\n",
    "SAMPLE SIZE: 3,273 adult interviews during MTO long-term evaluation\n",
    "\n",
    "2012 REPORT IN SCIENCE: \"Neighborhood Effects on the Long-Term Well-Being of Low-Income Adults\" \n",
    "Ludwig, Jens, Duncan, Greg J., Gennetian, Lisa A., Katz, Lawrence R., Kessler, Ronald, Kling, Jeffrey R., and Sanbonmatsu, Lisa.  \n",
    "\n",
    "RESULTS:\n",
    "--moving from a high-poverty to lower-poverty neighborhood leads to long-term (10- to 15-year) improvements in adult physical and mental health and subjective well-being, \n",
    "--economic self-sufficiency not affected. \n",
    "--Subjective well-being more strongly affected by changes in neighborhood economic disadvantage than racial segregation, (racial segregation has been declining since 1970, but income segregation has been increasing). "
   ]
  },
  {
   "cell_type": "markdown",
   "metadata": {},
   "source": [
    "<table style=\"width:100%\">\n",
    "  <tr>\n",
    "    <th>MTO treatment (voucher) groups mean</th>\n",
    "    <th>Control group mean</th>\n",
    "    </tr>\n",
    "  <tr>\n",
    "    <td>N=1139</td>\n",
    "    <td> N=2134</td>\n",
    "    </tr>\n",
    "    <tr>\n",
    "      <th>Female</th>\n",
    "    <th>Male</th>\n",
    "    </tr>\n",
    "  <tr>\n",
    "    <td>.978</td>\n",
    "    <td>.984</td>\n",
    "  </tr>\n",
    "    <tr>\n",
    "      <th>Age</th>\n",
    "    <th>Age</th>\n",
    "    </tr>\n",
    "  <tr>\n",
    "    <td>44.5</td>\n",
    "    <td> 44.6</td>\n",
    "  </tr>\n",
    "       <tr>\n",
    "      <th>African-American</th>\n",
    "    <th>African-American</th>\n",
    "    </tr>\n",
    "  <tr>\n",
    "    <td>0.660</td>\n",
    "    <td> 0.640</td>\n",
    "  </tr>\n",
    "         <tr>\n",
    "      <th>Hispanic</th>\n",
    "    <th>Hispanic</th>\n",
    "    </tr>\n",
    "  <tr>\n",
    "    <td>0.304</td>\n",
    "    <td>  0.325</td>\n",
    "  </tr>\n",
    "         <tr>\n",
    "      <th>Never married</th>\n",
    "    <th>Never married</th>\n",
    "    </tr>\n",
    "  <tr>\n",
    "    <td>  0.637</td>\n",
    "    <td>    0.623</td>\n",
    "  </tr>\n",
    "        <tr>\n",
    "      <th>Working</th>\n",
    "    <th>Working</th>\n",
    "    </tr>\n",
    "  <tr>\n",
    "    <td>    0.245</td>\n",
    "    <td>    0.270</td>\n",
    "  </tr>\n",
    "        <tr>\n",
    "      <th>High school diploma</th>\n",
    "    <th>High school diploma</th>\n",
    "    </tr>\n",
    "  <tr>\n",
    "    <td>    0.361</td>\n",
    "    <td>     0.367</td>\n",
    "  </tr>\n",
    "           <tr>\n",
    "      <th>(GED)</th>\n",
    "    <th>(GED)</th>\n",
    "    </tr>\n",
    "  <tr>\n",
    "    <td>      0.199</td>\n",
    "    <td>     0.169(p<.1)</td>\n",
    "  </tr>\n",
    "             <tr>\n",
    "      <th>(AFDC)</th>\n",
    "    <th>(AFDC)</th>\n",
    "    </tr>\n",
    "  <tr>\n",
    "    <td>      0.763</td>\n",
    "    <td>     0.752</td>\n",
    "  </tr>\n",
    "       <tr>\n",
    "      <th>House Income</th>\n",
    "    <th>House Income</th>\n",
    "    </tr>\n",
    "  <tr>\n",
    "    <td>     12,438.64</td>\n",
    "    <td>     12,833.64</td>\n",
    "  </tr>\n",
    "         <tr>\n",
    "      <th>Baltimore</th>\n",
    "    <th>Baltimore</th>\n",
    "    </tr>\n",
    "  <tr>\n",
    "    <td>      0.135</td>\n",
    "    <td>      0.136</td>\n",
    "  </tr>\n",
    "          <tr>\n",
    "      <th>Boston</th>\n",
    "    <th>Boston</th>\n",
    "    </tr>\n",
    "  <tr>\n",
    "    <td>      0.205</td>\n",
    "    <td>      0.203</td>\n",
    "  </tr>\n",
    "              <tr>\n",
    "      <th>Chicago </th>\n",
    "    <th>Chicago </th>\n",
    "    </tr>\n",
    "  <tr>\n",
    "    <td>      0.205</td>\n",
    "    <td>      0.206</td>\n",
    "  </tr>\n",
    "                  <tr>\n",
    "      <th>Los Angeles </th>\n",
    "    <th>Los Angeles </th>\n",
    "    </tr>\n",
    "  <tr>\n",
    "    <td>     0.226</td>\n",
    "    <td>       0.225</td>\n",
    "  </tr>\n",
    "                   <tr>\n",
    "      <th>New York </th>\n",
    "    <th>New York </th>\n",
    "    </tr>\n",
    "  <tr>\n",
    "    <td>     0.229</td>\n",
    "    <td>       .229</td>\n",
    "  </tr>\n",
    "         <tr>\n",
    "      <th>\t\n",
    "Hshld membr crime vict last 6 mos </th>\n",
    "    <th>\t\n",
    "Hshld membr crime vict last 6 mos </th>\n",
    "    </tr>\n",
    "  <tr>\n",
    "    <td>     0.416</td>\n",
    "    <td>          0.425</td>\n",
    "  </tr>\n",
    "             <tr>\n",
    "      <th>\t\n",
    "Very disastis w nbhd </th>\n",
    "    <th>\t\n",
    "Very disastis w nbhd </th>\n",
    "    </tr>\n",
    "  <tr>\n",
    "    <td>    0.467</td>\n",
    "    <td>        0.478</td>\n",
    "  </tr>\n",
    "                 <tr>\n",
    "      <th>\t\n",
    " Move to escape gangs/drugs\t </th>\n",
    "    <th>\t\n",
    " Move to escape gangs/drugs\t </th>\n",
    "    </tr>\n",
    "  <tr>\n",
    "    <td>    0.779</td>\n",
    "    <td>          0.770</td>\n",
    "  </tr>\n",
    "                     <tr>\n",
    "      <th>\t\n",
    "Better schools\t </th>\n",
    "    <th>\t\n",
    " Better schools\t </th>\n",
    "    </tr>\n",
    "  <tr>\n",
    "    <td>    0.481</td>\n",
    "    <td>          0.516(p<.1)</td>\n",
    "  </tr>\n",
    "                         <tr>\n",
    "      <th>\t\n",
    "Better apt\t </th>\n",
    "    <th>\t\n",
    " Better apt\t </th>\n",
    "    </tr>\n",
    "  <tr>\n",
    "    <td>    0.457</td>\n",
    "    <td>          0.440</td>\n",
    "  </tr>\n",
    "                             <tr>\n",
    "      <th>\t\n",
    "Get a job\t </th>\n",
    "    <th>\t\n",
    "Get a job </th>\n",
    "    </tr>\n",
    "  <tr>\n",
    "    <td>     0.069</td>\n",
    "    <td>            0.058</td>\n",
    "  </tr>\n",
    "</table>\n",
    "\n",
    "*= P<.10 on two-tailed t-test of difference between MTO treatment and control groups. (no p<.01 or p<.05)"
   ]
  },
  {
   "cell_type": "code",
   "execution_count": 1,
   "metadata": {},
   "outputs": [],
   "source": [
    "import pandas as pd\n",
    "import numpy as np"
   ]
  },
  {
   "cell_type": "markdown",
   "metadata": {},
   "source": [
    "<h3> 1. Treatment and Control Group Comparisons"
   ]
  },
  {
   "cell_type": "markdown",
   "metadata": {},
   "source": [
    "1a) Let's get the data and look at its first row."
   ]
  },
  {
   "cell_type": "code",
   "execution_count": 120,
   "metadata": {},
   "outputs": [
    {
     "data": {
      "text/html": [
       "<div>\n",
       "<style scoped>\n",
       "    .dataframe tbody tr th:only-of-type {\n",
       "        vertical-align: middle;\n",
       "    }\n",
       "\n",
       "    .dataframe tbody tr th {\n",
       "        vertical-align: top;\n",
       "    }\n",
       "\n",
       "    .dataframe thead th {\n",
       "        text-align: right;\n",
       "    }\n",
       "</style>\n",
       "<table border=\"1\" class=\"dataframe\">\n",
       "  <thead>\n",
       "    <tr style=\"text-align: right;\">\n",
       "      <th></th>\n",
       "      <th>cell_id_ad</th>\n",
       "      <th>ra_group</th>\n",
       "      <th>ra_grp_exp</th>\n",
       "      <th>ra_grp_s8</th>\n",
       "      <th>ra_grp_control</th>\n",
       "      <th>ra_site</th>\n",
       "      <th>x_f_site_balt</th>\n",
       "      <th>x_f_site_bos</th>\n",
       "      <th>x_f_site_chi</th>\n",
       "      <th>x_f_site_la</th>\n",
       "      <th>...</th>\n",
       "      <th>ps_x_f_hh_size2</th>\n",
       "      <th>ps_x_f_hh_size3</th>\n",
       "      <th>ps_x_f_hh_size4</th>\n",
       "      <th>ps_x_f_hh_victim</th>\n",
       "      <th>ps_x_f_hous_fndapt</th>\n",
       "      <th>ps_x_f_hous_mov3tm</th>\n",
       "      <th>ps_x_f_hous_movdrgs</th>\n",
       "      <th>ps_x_f_hous_movschl</th>\n",
       "      <th>ps_x_f_hous_sec8bef</th>\n",
       "      <th>ps_x_f_release1</th>\n",
       "    </tr>\n",
       "  </thead>\n",
       "  <tbody>\n",
       "    <tr>\n",
       "      <th>0</th>\n",
       "      <td>1.0</td>\n",
       "      <td>1=Low-Poverty Voucher/Experimental</td>\n",
       "      <td>1=Low-Poverty Voucher/Exp. Group</td>\n",
       "      <td>0=Low-Poverty Voucher/Exp. or Control Group</td>\n",
       "      <td>0=Traditional Voucher/Section 8</td>\n",
       "      <td>1=Baltimore</td>\n",
       "      <td>1=Baltimore</td>\n",
       "      <td>0=Baltimore, Chicago, Los Angeles or New York</td>\n",
       "      <td>0=Baltimore, Boston, Los Angeles or New York</td>\n",
       "      <td>0=Baltimore, Boston, Chicago or New York</td>\n",
       "      <td>...</td>\n",
       "      <td>-2.062770</td>\n",
       "      <td>-2.158988</td>\n",
       "      <td>-1.776373</td>\n",
       "      <td>-2.128393</td>\n",
       "      <td>-2.053568</td>\n",
       "      <td>-1.413134</td>\n",
       "      <td>-1.378245</td>\n",
       "      <td>-2.090812</td>\n",
       "      <td>-2.077376</td>\n",
       "      <td>-2.148174</td>\n",
       "    </tr>\n",
       "    <tr>\n",
       "      <th>1</th>\n",
       "      <td>1.0</td>\n",
       "      <td>1=Low-Poverty Voucher/Experimental</td>\n",
       "      <td>1=Low-Poverty Voucher/Exp. Group</td>\n",
       "      <td>0=Low-Poverty Voucher/Exp. or Control Group</td>\n",
       "      <td>0=Traditional Voucher/Section 8</td>\n",
       "      <td>1=Baltimore</td>\n",
       "      <td>1=Baltimore</td>\n",
       "      <td>0=Baltimore, Chicago, Los Angeles or New York</td>\n",
       "      <td>0=Baltimore, Boston, Los Angeles or New York</td>\n",
       "      <td>0=Baltimore, Boston, Chicago or New York</td>\n",
       "      <td>...</td>\n",
       "      <td>0.272727</td>\n",
       "      <td>0.363636</td>\n",
       "      <td>0.163636</td>\n",
       "      <td>0.462586</td>\n",
       "      <td>0.537410</td>\n",
       "      <td>0.093220</td>\n",
       "      <td>0.770204</td>\n",
       "      <td>0.441704</td>\n",
       "      <td>0.518978</td>\n",
       "      <td>0.345455</td>\n",
       "    </tr>\n",
       "  </tbody>\n",
       "</table>\n",
       "<p>2 rows × 74 columns</p>\n",
       "</div>"
      ],
      "text/plain": [
       "   cell_id_ad                            ra_group  \\\n",
       "0         1.0  1=Low-Poverty Voucher/Experimental   \n",
       "1         1.0  1=Low-Poverty Voucher/Experimental   \n",
       "\n",
       "                         ra_grp_exp  \\\n",
       "0  1=Low-Poverty Voucher/Exp. Group   \n",
       "1  1=Low-Poverty Voucher/Exp. Group   \n",
       "\n",
       "                                     ra_grp_s8  \\\n",
       "0  0=Low-Poverty Voucher/Exp. or Control Group   \n",
       "1  0=Low-Poverty Voucher/Exp. or Control Group   \n",
       "\n",
       "                    ra_grp_control      ra_site x_f_site_balt  \\\n",
       "0  0=Traditional Voucher/Section 8  1=Baltimore   1=Baltimore   \n",
       "1  0=Traditional Voucher/Section 8  1=Baltimore   1=Baltimore   \n",
       "\n",
       "                                    x_f_site_bos  \\\n",
       "0  0=Baltimore, Chicago, Los Angeles or New York   \n",
       "1  0=Baltimore, Chicago, Los Angeles or New York   \n",
       "\n",
       "                                   x_f_site_chi  \\\n",
       "0  0=Baltimore, Boston, Los Angeles or New York   \n",
       "1  0=Baltimore, Boston, Los Angeles or New York   \n",
       "\n",
       "                                x_f_site_la       ...        ps_x_f_hh_size2  \\\n",
       "0  0=Baltimore, Boston, Chicago or New York       ...              -2.062770   \n",
       "1  0=Baltimore, Boston, Chicago or New York       ...               0.272727   \n",
       "\n",
       "   ps_x_f_hh_size3  ps_x_f_hh_size4  ps_x_f_hh_victim  ps_x_f_hous_fndapt  \\\n",
       "0        -2.158988        -1.776373         -2.128393           -2.053568   \n",
       "1         0.363636         0.163636          0.462586            0.537410   \n",
       "\n",
       "   ps_x_f_hous_mov3tm  ps_x_f_hous_movdrgs  ps_x_f_hous_movschl  \\\n",
       "0           -1.413134            -1.378245            -2.090812   \n",
       "1            0.093220             0.770204             0.441704   \n",
       "\n",
       "   ps_x_f_hous_sec8bef  ps_x_f_release1  \n",
       "0            -2.077376        -2.148174  \n",
       "1             0.518978         0.345455  \n",
       "\n",
       "[2 rows x 74 columns]"
      ]
     },
     "execution_count": 120,
     "metadata": {},
     "output_type": "execute_result"
    }
   ],
   "source": [
    "raw_mto=pd.read_stata('MTO.dta')\n",
    "raw_mto.head(2)"
   ]
  },
  {
   "cell_type": "markdown",
   "metadata": {},
   "source": [
    "1b) Let's check the distribution oc cities."
   ]
  },
  {
   "cell_type": "code",
   "execution_count": 6,
   "metadata": {},
   "outputs": [
    {
     "data": {
      "text/plain": [
       "4=Los Angeles      736\n",
       "5=New York City    733\n",
       "2=Boston           680\n",
       "3=Chicago          671\n",
       "1=Baltimore        453\n",
       "Name: ra_site, dtype: int64"
      ]
     },
     "execution_count": 6,
     "metadata": {},
     "output_type": "execute_result"
    }
   ],
   "source": [
    "raw_mto['ra_site'].value_counts()"
   ]
  },
  {
   "cell_type": "markdown",
   "metadata": {},
   "source": [
    "1c) Let's see the column headings."
   ]
  },
  {
   "cell_type": "code",
   "execution_count": 5,
   "metadata": {},
   "outputs": [
    {
     "data": {
      "text/plain": [
       "cell_id_ad                      3273\n",
       "ra_group                        3273\n",
       "ra_grp_exp                      3273\n",
       "ra_grp_s8                       3273\n",
       "ra_grp_control                  3273\n",
       "ra_site                         3273\n",
       "x_f_site_balt                   3273\n",
       "x_f_site_bos                    3273\n",
       "x_f_site_chi                    3273\n",
       "x_f_site_la                     3273\n",
       "sgx_rasite_3g_all_nyc           3273\n",
       "mn_f_wt_totsvy                  3273\n",
       "tmp_order_incell                3273\n",
       "ps_f_svy_cmove                  3273\n",
       "ps_x_rad_ad_ethrace_black_nh    3273\n",
       "ps_x_rad_ad_ethrace_hisp        3273\n",
       "ps_f_all_idx_fix_z_ad           3273\n",
       "ps_f_ec_idx_z_ad                3271\n",
       "ps_f_ph_idx_fix_z_ad            3273\n",
       "ps_f_mh_idx_z_ad                3273\n",
       "ps_f_mh_k6_raw_ad               3273\n",
       "ps_f_mh_k6_z_ad                 3273\n",
       "psbi_f_ph_bmi_obese3_srm_ad     3221\n",
       "psbi_f_ph_bmi_obese_srm_ad      3221\n",
       "psbi_f_db_hba1c_diab_final      2732\n",
       "psbi_f_in_selfsuf_ad            3260\n",
       "psbi_f_em_emp_ad                3264\n",
       "ps_rad_in_head2009              3140\n",
       "psbi_f_in_tanf_fam              3262\n",
       "ps_rad_in_govt2009              3139\n",
       "                                ... \n",
       "ps_x_rad_ad_41_45               3273\n",
       "ps_x_rad_ad_46_50               3273\n",
       "ps_x_f_ad_working               3273\n",
       "ps_x_f_ad_edged                 3273\n",
       "ps_x_f_ad_edgradhs_miss         3273\n",
       "ps_x_f_ad_edgradhs              3273\n",
       "ps_x_f_ad_edinsch               3273\n",
       "ps_x_f_ad_nevmarr               3273\n",
       "ps_x_f_ad_parentu18             3273\n",
       "ps_x_f_hood_5y                  3273\n",
       "ps_x_f_hood_chat                3273\n",
       "ps_x_f_hood_nbrkid              3273\n",
       "ps_x_f_hood_nofamily            3273\n",
       "ps_x_f_hood_nofriend            3273\n",
       "ps_x_f_hood_unsafenit           3273\n",
       "ps_x_f_hood_verydissat          3273\n",
       "ps_x_f_hh_afdc                  3273\n",
       "ps_x_f_hh_car                   3273\n",
       "ps_x_f_hh_disabl                3273\n",
       "ps_x_f_hh_noteens               3273\n",
       "ps_x_f_hh_size2                 3273\n",
       "ps_x_f_hh_size3                 3273\n",
       "ps_x_f_hh_size4                 3273\n",
       "ps_x_f_hh_victim                3273\n",
       "ps_x_f_hous_fndapt              3273\n",
       "ps_x_f_hous_mov3tm              3273\n",
       "ps_x_f_hous_movdrgs             3273\n",
       "ps_x_f_hous_movschl             3273\n",
       "ps_x_f_hous_sec8bef             3273\n",
       "ps_x_f_release1                 3273\n",
       "Length: 74, dtype: int64"
      ]
     },
     "execution_count": 5,
     "metadata": {},
     "output_type": "execute_result"
    }
   ],
   "source": [
    "raw_mto.count()"
   ]
  },
  {
   "cell_type": "markdown",
   "metadata": {},
   "source": [
    "1d) Let's create a dataframe mto \n",
    "<ul>\n",
    "<li> using 'ra_group', 'ps_x_f_hous_movdrgs'  and 'ps_x_f_hous_movschl' </li>\n",
    "<li> naming the columns 'Group', 'DrugEscape' and 'BetterSchools'</li>\n",
    "    <li> making 'Group' the index</li>\n",
    "        </ul>"
   ]
  },
  {
   "cell_type": "code",
   "execution_count": 121,
   "metadata": {},
   "outputs": [
    {
     "data": {
      "text/html": [
       "<div>\n",
       "<style scoped>\n",
       "    .dataframe tbody tr th:only-of-type {\n",
       "        vertical-align: middle;\n",
       "    }\n",
       "\n",
       "    .dataframe tbody tr th {\n",
       "        vertical-align: top;\n",
       "    }\n",
       "\n",
       "    .dataframe thead th {\n",
       "        text-align: right;\n",
       "    }\n",
       "</style>\n",
       "<table border=\"1\" class=\"dataframe\">\n",
       "  <thead>\n",
       "    <tr style=\"text-align: right;\">\n",
       "      <th></th>\n",
       "      <th>DrugEscape</th>\n",
       "      <th>BetterSchools</th>\n",
       "    </tr>\n",
       "    <tr>\n",
       "      <th>Group</th>\n",
       "      <th></th>\n",
       "      <th></th>\n",
       "    </tr>\n",
       "  </thead>\n",
       "  <tbody>\n",
       "    <tr>\n",
       "      <th>1=Low-Poverty Voucher/Experimental</th>\n",
       "      <td>-1.378245</td>\n",
       "      <td>-2.090812</td>\n",
       "    </tr>\n",
       "  </tbody>\n",
       "</table>\n",
       "</div>"
      ],
      "text/plain": [
       "                                    DrugEscape  BetterSchools\n",
       "Group                                                        \n",
       "1=Low-Poverty Voucher/Experimental   -1.378245      -2.090812"
      ]
     },
     "execution_count": 121,
     "metadata": {},
     "output_type": "execute_result"
    }
   ],
   "source": [
    "mto=raw_mto[[ 'ra_group','ps_x_f_hous_movdrgs','ps_x_f_hous_movschl']]\n",
    "mto.columns=['Group','DrugEscape','BetterSchools']\n",
    "mto=mto.set_index('Group')\n",
    "mto.head(1)"
   ]
  },
  {
   "cell_type": "code",
   "execution_count": 53,
   "metadata": {},
   "outputs": [
    {
     "data": {
      "text/plain": [
       "1=Low-Poverty Voucher/Experimental    1456\n",
       "3=Control                             1139\n",
       "2=Traditional Voucher/Section 8        678\n",
       "Name: Group, dtype: int64"
      ]
     },
     "execution_count": 53,
     "metadata": {},
     "output_type": "execute_result"
    }
   ],
   "source": [
    "mto.index.value_counts()"
   ]
  },
  {
   "cell_type": "markdown",
   "metadata": {},
   "source": [
    "1e) Let's create two dataframes: G0 as the control group '2=Traditional Voucher/Section 8' or   '3=Control', and G1 as the  treatment group '1=Low-Poverty Voucher/Experimental' and reset the index of both."
   ]
  },
  {
   "cell_type": "code",
   "execution_count": 67,
   "metadata": {},
   "outputs": [
    {
     "name": "stdout",
     "output_type": "stream",
     "text": [
      "   DrugEscape  BetterSchools\n",
      "0   -2.650948      -3.733270\n",
      "1    0.788714       0.408611\n",
      "   DrugEscape  BetterSchools\n",
      "0   -1.378245      -2.090812\n",
      "1    0.770204       0.441704\n"
     ]
    }
   ],
   "source": [
    "G0=mto.loc[['3=Control'],:]\n",
    "G0=G0.reset_index(drop=True)\n",
    "G1=mto.loc[['1=Low-Poverty Voucher/Experimental','2=Traditional Voucher/Section 8'],:]\n",
    "G1=G1.reset_index(drop=True)\n",
    "\n",
    "print(G0.head(2))\n",
    "print(G1.head(2))\n"
   ]
  },
  {
   "cell_type": "markdown",
   "metadata": {},
   "source": [
    "1f) Let's get the mean and standard deviations for both groups"
   ]
  },
  {
   "cell_type": "code",
   "execution_count": 68,
   "metadata": {},
   "outputs": [
    {
     "name": "stdout",
     "output_type": "stream",
     "text": [
      "Mean Control:  DrugEscape       0.781902\n",
      "BetterSchools    0.470903\n",
      "dtype: float32\n",
      "Standard Deviation Control:  DrugEscape       0.408567\n",
      "BetterSchools    0.494069\n",
      "dtype: float32\n",
      "Mean Treatment  DrugEscape       0.772146\n",
      "BetterSchools    0.507280\n",
      "dtype: float32\n",
      "Standard Treatment  DrugEscape       0.414934\n",
      "BetterSchools    0.493690\n",
      "dtype: float32\n"
     ]
    }
   ],
   "source": [
    "print(\"Mean Control: \",G0.mean())\n",
    "print(\"Standard Deviation Control: \",G0.std())\n",
    "print(\"Mean Treatment \",G1.mean())\n",
    "print(\"Standard Treatment \",G1.std())"
   ]
  },
  {
   "cell_type": "markdown",
   "metadata": {},
   "source": [
    "1g) Let's do t-tests for the difference in means for Drug Escape."
   ]
  },
  {
   "cell_type": "code",
   "execution_count": 69,
   "metadata": {},
   "outputs": [
    {
     "data": {
      "text/plain": [
       "Ttest_indResult(statistic=0.643958104475791, pvalue=0.5196477505072472)"
      ]
     },
     "execution_count": 69,
     "metadata": {},
     "output_type": "execute_result"
    }
   ],
   "source": [
    "from scipy import stats\n",
    "stats.ttest_ind(G0['DrugEscape'], G1['DrugEscape'])"
   ]
  },
  {
   "cell_type": "markdown",
   "metadata": {},
   "source": [
    "1h) Let's compare their histograms."
   ]
  },
  {
   "cell_type": "code",
   "execution_count": 93,
   "metadata": {},
   "outputs": [
    {
     "data": {
      "text/plain": [
       "<matplotlib.legend.Legend at 0x1d84a179ef0>"
      ]
     },
     "execution_count": 93,
     "metadata": {},
     "output_type": "execute_result"
    },
    {
     "data": {
      "image/png": "[encoded data removed]",
      "text/plain": [
       "<matplotlib.figure.Figure at 0x1d8492c9c50>"
      ]
     },
     "metadata": {
      "needs_background": "light"
     },
     "output_type": "display_data"
    }
   ],
   "source": [
    "import matplotlib\n",
    "import numpy as np\n",
    "import matplotlib.pyplot as plt   \n",
    "#Make Histogram\n",
    "plt.subplots()\n",
    "bins = np.linspace(0, 1, 1000)\n",
    "plt.hist(G0['DrugEscape'], bins,alpha=0.3,label='Control N0=1139')\n",
    "plt.hist(G1['DrugEscape'], bins,alpha=0.3,label='Treatment N1=2134')\n",
    "plt.legend(loc='upper right')"
   ]
  },
  {
   "cell_type": "markdown",
   "metadata": {},
   "source": [
    "1i) Let's also compare histograms for better schools."
   ]
  },
  {
   "cell_type": "code",
   "execution_count": 95,
   "metadata": {},
   "outputs": [
    {
     "data": {
      "text/plain": [
       "Ttest_indResult(statistic=-2.0073942947608656, pvalue=0.044789808528206125)"
      ]
     },
     "execution_count": 95,
     "metadata": {},
     "output_type": "execute_result"
    }
   ],
   "source": [
    "from scipy import stats\n",
    "stats.ttest_ind(G0['BetterSchools'], G1['BetterSchools'])"
   ]
  },
  {
   "cell_type": "code",
   "execution_count": 97,
   "metadata": {},
   "outputs": [
    {
     "data": {
      "text/plain": [
       "<matplotlib.legend.Legend at 0x1d84e531da0>"
      ]
     },
     "execution_count": 97,
     "metadata": {},
     "output_type": "execute_result"
    },
    {
     "data": {
      "image/png": "[encoded data removed]",
      "text/plain": [
       "<matplotlib.figure.Figure at 0x1d84d31aa20>"
      ]
     },
     "metadata": {
      "needs_background": "light"
     },
     "output_type": "display_data"
    }
   ],
   "source": [
    "import matplotlib\n",
    "import numpy as np\n",
    "import matplotlib.pyplot as plt   \n",
    "#Make Histogram\n",
    "plt.subplots()\n",
    "bins = np.linspace(0, 1, 1000)\n",
    "plt.hist(G0['BetterSchools'], bins,alpha=0.3,label='Control N0=1139')\n",
    "plt.hist(G1['BetterSchools'], bins,alpha=0.3,label='Treatment N1=2134')\n",
    "plt.legend(loc='upper right')"
   ]
  },
  {
   "cell_type": "markdown",
   "metadata": {},
   "source": [
    "1j) Let's compare boxplots as well."
   ]
  },
  {
   "cell_type": "code",
   "execution_count": 103,
   "metadata": {},
   "outputs": [
    {
     "name": "stderr",
     "output_type": "stream",
     "text": [
      "C:\\Users\\pisihara\\AppData\\Local\\Continuum\\anaconda3\\lib\\site-packages\\numpy\\core\\fromnumeric.py:52: FutureWarning: reshape is deprecated and will raise in a subsequent release. Please use .values.reshape(...) instead\n",
      "  return getattr(obj, method)(*args, **kwds)\n"
     ]
    },
    {
     "data": {
      "image/png": "[encoded data removed]",
      "text/plain": [
       "<matplotlib.figure.Figure at 0x1d85091b828>"
      ]
     },
     "metadata": {
      "needs_background": "light"
     },
     "output_type": "display_data"
    }
   ],
   "source": [
    "plt.figure()\n",
    "# create a boxplot of the normal data, assign the output to a variable to supress output\n",
    "ax = plt.boxplot([G0['DrugEscape'], G1['DrugEscape']], labels=[\"Drug Escape Control\",\"Drug Escape Treatment\"])"
   ]
  },
  {
   "cell_type": "code",
   "execution_count": 104,
   "metadata": {},
   "outputs": [
    {
     "name": "stderr",
     "output_type": "stream",
     "text": [
      "C:\\Users\\pisihara\\AppData\\Local\\Continuum\\anaconda3\\lib\\site-packages\\numpy\\core\\fromnumeric.py:52: FutureWarning: reshape is deprecated and will raise in a subsequent release. Please use .values.reshape(...) instead\n",
      "  return getattr(obj, method)(*args, **kwds)\n"
     ]
    },
    {
     "data": {
      "image/png": "[encoded data removed]",
      "text/plain": [
       "<matplotlib.figure.Figure at 0x1d8517e7f98>"
      ]
     },
     "metadata": {
      "needs_background": "light"
     },
     "output_type": "display_data"
    }
   ],
   "source": [
    "plt.figure()\n",
    "# create a boxplot of the normal data, assign the output to a variable to supress output\n",
    "ax = plt.boxplot([G0['BetterSchools'], G1['BetterSchools']], labels=[\"Better Schools Control\",\"Better Schools Treatment\"])"
   ]
  },
  {
   "cell_type": "markdown",
   "metadata": {},
   "source": [
    "<h3> 2. Monte Carlo Simulation of t-statistic"
   ]
  },
  {
   "cell_type": "markdown",
   "metadata": {},
   "source": [
    "2a) Simulation 10,000 random selections of control groups for 'BetterSchools' and the difference in means between the control and treatment groups."
   ]
  },
  {
   "cell_type": "code",
   "execution_count": 151,
   "metadata": {},
   "outputs": [],
   "source": [
    "df=mto\n",
    "N=3273\n",
    "N0=1139\n",
    "difference_in_means=np.array([])\n",
    "for index in range(10000):\n",
    "    df['ID']=np.random.permutation(N)\n",
    "    control=df[df['ID']<N0]\n",
    "    treatment=df[df['ID']>=N0]\n",
    "    difference_in_means=np.append(difference_in_means,control['BetterSchools'].mean()-treatment['BetterSchools'].mean())"
   ]
  },
  {
   "cell_type": "markdown",
   "metadata": {},
   "source": [
    "2b) Make a histogram of the 10,000 simulated difference_in_means."
   ]
  },
  {
   "cell_type": "code",
   "execution_count": 152,
   "metadata": {},
   "outputs": [
    {
     "data": {
      "image/png": "[encoded data removed]",
      "text/plain": [
       "<matplotlib.figure.Figure at 0x1d853b11668>"
      ]
     },
     "metadata": {
      "needs_background": "light"
     },
     "output_type": "display_data"
    }
   ],
   "source": [
    "import matplotlib\n",
    "import numpy as np\n",
    "import matplotlib.pyplot as plt\n",
    "#Make Histogram\n",
    "fig, ax = plt.subplots()\n",
    "n,bins,patches = ax.hist(difference_in_means, bins=50,density=1)\n"
   ]
  },
  {
   "cell_type": "markdown",
   "metadata": {},
   "source": [
    "2c) Let's check what proportion of the samples have a difference in means  at  least as large as the observed difference in means (2-sided t-test)"
   ]
  },
  {
   "cell_type": "code",
   "execution_count": 158,
   "metadata": {},
   "outputs": [
    {
     "name": "stdout",
     "output_type": "stream",
     "text": [
      "0.5119562149047852\n",
      "0.48536866903305054\n"
     ]
    }
   ],
   "source": [
    "print(control['BetterSchools'].mean())\n",
    "print(treatment['BetterSchools'].mean())"
   ]
  },
  {
   "cell_type": "code",
   "execution_count": 159,
   "metadata": {},
   "outputs": [
    {
     "name": "stdout",
     "output_type": "stream",
     "text": [
      "For schools, p=  0.069\n"
     ]
    }
   ],
   "source": [
    "diff=control['BetterSchools'].mean()-treatment['BetterSchools'].mean()\n",
    "ind=difference_in_means\n",
    "pschools=len(ind[ind>=diff])/10000\n",
    "print('For schools, p= ', pschools)"
   ]
  },
  {
   "cell_type": "markdown",
   "metadata": {},
   "source": [
    "2d) Repeat for drugs. (This time use 20,000 simulations)"
   ]
  },
  {
   "cell_type": "code",
   "execution_count": 169,
   "metadata": {},
   "outputs": [],
   "source": [
    "df=mto\n",
    "N=3273\n",
    "N0=1139\n",
    "difference_in_means1=np.array([])\n",
    "for index in range(20000):\n",
    "    df['ID']=np.random.permutation(N)\n",
    "    control=df[df['ID']<N0]\n",
    "    treatment=df[df['ID']>=N0]\n",
    "    difference_in_means1=np.append(difference_in_means1,control['DrugEscape'].mean()-treatment['DrugEscape'].mean())"
   ]
  },
  {
   "cell_type": "code",
   "execution_count": 170,
   "metadata": {},
   "outputs": [
    {
     "data": {
      "image/png": "[encoded data removed]",
      "text/plain": [
       "<matplotlib.figure.Figure at 0x1d853c81da0>"
      ]
     },
     "metadata": {
      "needs_background": "light"
     },
     "output_type": "display_data"
    }
   ],
   "source": [
    "import matplotlib\n",
    "import numpy as np\n",
    "import matplotlib.pyplot as plt\n",
    "#Make Histogram\n",
    "fig, ax = plt.subplots()\n",
    "n,bins,patches = ax.hist(difference_in_means1, bins=50,density=1)\n"
   ]
  },
  {
   "cell_type": "code",
   "execution_count": 171,
   "metadata": {},
   "outputs": [
    {
     "name": "stdout",
     "output_type": "stream",
     "text": [
      "0.7685181498527527\n",
      "0.779291570186615\n"
     ]
    }
   ],
   "source": [
    "print(control['DrugEscape'].mean())\n",
    "print(treatment['DrugEscape'].mean())"
   ]
  },
  {
   "cell_type": "code",
   "execution_count": 172,
   "metadata": {},
   "outputs": [
    {
     "name": "stdout",
     "output_type": "stream",
     "text": [
      "For drug escape, p=  0.24185\n"
     ]
    }
   ],
   "source": [
    "diff1=control['DrugEscape'].mean()-treatment['DrugEscape'].mean()\n",
    "ind1=difference_in_means1\n",
    "pDrugs=len(ind1[ind1<=diff1])/20000  #Use <= since since difference in mens is negative.\n",
    "print('For drug escape, p= ', pDrugs)"
   ]
  },
  {
   "cell_type": "code",
   "execution_count": null,
   "metadata": {},
   "outputs": [],
   "source": []
  }
 ],
 "metadata": {
  "kernelspec": {
   "display_name": "Python 3",
   "language": "python",
   "name": "python3"
  },
  "language_info": {
   "codemirror_mode": {
    "name": "ipython",
    "version": 3
   },
   "file_extension": ".py",
   "mimetype": "text/x-python",
   "name": "python",
   "nbconvert_exporter": "python",
   "pygments_lexer": "ipython3",
   "version": "3.6.4"
  }
 },
 "nbformat": 4,
 "nbformat_minor": 2
}
